{
  "nbformat": 4,
  "nbformat_minor": 0,
  "metadata": {
    "colab": {
      "name": "README.md.ipynb",
      "provenance": [],
      "collapsed_sections": [],
      "authorship_tag": "ABX9TyOgkOtJsfcHtMMinXc4cnw0",
      "include_colab_link": true
    },
    "kernelspec": {
      "name": "python3",
      "display_name": "Python 3"
    },
    "language_info": {
      "name": "python"
    }
  },
  "cells": [
    {
      "cell_type": "markdown",
      "metadata": {
        "id": "view-in-github",
        "colab_type": "text"
      },
      "source": [
        "<a href=\"https://colab.research.google.com/github/juanignaciorey/Best-README-Template/blob/master/README_md.ipynb\" target=\"_parent\"><img src=\"https://colab.research.google.com/assets/colab-badge.svg\" alt=\"Open In Colab\"/></a>"
      ]
    },
    {
      "cell_type": "code",
      "metadata": {
        "cellView": "form",
        "id": "07OGwGY_kFpf"
      },
      "source": [
        "MODE = \"MOUNT\" #@param [\"MOUNT\", \"UNMOUNT\"]\n",
        "#Mount your Gdrive! \n",
        "from google.colab import drive\n",
        "drive.mount._DEBUG = False\n",
        "if MODE == \"MOUNT\":\n",
        "  drive.mount('/content/drive', force_remount=True)\n",
        "elif MODE == \"UNMOUNT\":\n",
        "  try:\n",
        "    drive.flush_and_unmount()\n",
        "  except ValueError:\n",
        "    pass\n",
        "  get_ipython().system_raw(\"rm -rf /root/.config/Google/DriveFS\")"
      ],
      "execution_count": null,
      "outputs": []
    },
    {
      "cell_type": "code",
      "metadata": {
        "cellView": "form",
        "id": "WTHJrdkDntCV"
      },
      "source": [
        "DRIVE_FOLDER = \"content/drive/MyDrive/proyectos/\" #@param {type:\"string\"}\n",
        "DRIVE_FOLDER = \"../../../../../../../\" + DRIVE_FOLDER\n",
        "%mkdir --parents $DRIVE_FOLDER\n",
        "GIT_USER = \"juanignaciorey\" #@param {type:\"string\"}\n",
        "GIT_PROYECT = \"colab-proyect-template\" #@param {type:\"string\"}\n",
        "\n",
        "GIT_REPO = \"https://github.com/{user}/{proyect}.git\".format(user=GIT_USER, proyect=GIT_PROYECT)\n",
        "!git clone $GIT_REPO\n",
        "%cd $GIT_PROYECT\n",
        "sys.path.append($GIT_PROYECT)\n",
        "%pwd"
      ],
      "execution_count": 7,
      "outputs": []
    },
    {
      "cell_type": "markdown",
      "metadata": {
        "id": "addn0NIokVSJ"
      },
      "source": [
        "### Ajustes luego de la instalacipon de WP\n",
        "<header>Ajustes</header>\n",
        "<blockquote>\n",
        "Enlaces permantes\n",
        "<li>Nombre de entrada</li>\n",
        "<li>o personalizada /catgoria/postname</li>\n",
        "\n",
        "Lectura \n",
        "<li>Disuade los motors de busquda</li>\n",
        "\n",
        "Medios \n",
        "<li>descheck organizar archivs een mes y año</li>\n",
        "</blockquote>\n",
        "\n",
        "ENTRADAS\n",
        "<blockquote>\n",
        "<li>Borrar entradas</li>\n",
        "<li>Crear Aviso Legal</li>\n",
        "<li>Crear DMCA</li>\n",
        "</blockquote>\n",
        "\n",
        "PLUGINS\n",
        "<blockquote>\n",
        "<li>borrar plugins</li>\n",
        "<li>Wp Favs key: xtdl3kHXUE09Odj3DtXXAX401NUaNR</li>\n",
        "<li>Crear DMCA</li>\n",
        "</blockquote>\n",
        "\n",
        "TODO: Agregar y subir a wp Favs\n",
        "<blockquote>\n",
        "<li>Super Progressive Web Apps -> Req tema flex y SSL</li><li>\n",
        "OneSignal – Web Push Notifications</li><li>\n",
        "Schema App Structured Data</li><li>\n",
        "AMP (AMP Project Contributors)</li>\n",
        "</blockquote>"
      ]
    }
  ]
}